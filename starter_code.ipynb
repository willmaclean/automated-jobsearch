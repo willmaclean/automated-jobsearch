{
 "cells": [
  {
   "cell_type": "markdown",
   "metadata": {
    "focus": false,
    "id": "69b9a648-bcc7-490d-9f9b-ea244d156bd6"
   },
   "source": [
    "<img src=\"http://imgur.com/1ZcRyrc.png\" style=\"float: left; margin: 15px; height: 80px\">\n",
    "\n",
    "\n",
    "# Web Scraping for Indeed.com and Predicting Salaries"
   ]
  },
  {
   "cell_type": "markdown",
   "metadata": {},
   "source": [
    "### Business Case Overview\n",
    "\n",
    "You're working as a data scientist for a contracting firm that's rapidly expanding. Now that they have their most valuable employee (you!), they need to leverage data to win more contracts. Your firm offers technology and scientific solutions and wants to be competitive in the hiring market. Your principal wants you to\n",
    "\n",
    "   - determine the industry factors that are most important in predicting the salary amounts for these data.\n",
    "\n",
    "To limit the scope, your principal has suggested that you *focus on data-related job postings*, e.g. data scientist, data analyst, research scientist, business intelligence, and any others you might think of. You may also want to decrease the scope by *limiting your search to a single region.*\n",
    "\n",
    "Hint: Aggregators like [Indeed.com](https://www.indeed.com) regularly pool job postings from a variety of markets and industries.\n",
    "\n",
    "**Goal:** Scrape your own data from a job aggregation tool like Indeed.com in order to collect the data to best answer this question.\n",
    "\n",
    "---\n",
    "\n",
    "### Directions\n",
    "\n",
    "In this project you will be leveraging a variety of skills. The first will be to use the web-scraping and/or API techniques you've learned to collect data on data jobs from Indeed.com or another aggregator. Once you have collected and cleaned the data, you will use it to address the question above."
   ]
  },
  {
   "cell_type": "markdown",
   "metadata": {},
   "source": [
    "### Factors that impact salary\n",
    "\n",
    "To predict salary the most appropriate approach would be a regression model.\n",
    "Here instead we just want to estimate which factors (like location, job title, job level, industry sector) lead to high or low salary and work with a classification model. To do so, split the salary into two groups of high and low salary, for example by choosing the median salary as a threshold (in principle you could choose any single or multiple splitting points).\n",
    "\n",
    "Use all the skills you have learned so far to build a predictive model.\n",
    "Whatever you decide to use, the most important thing is to justify your choices and interpret your results. *Communication of your process is key.* Note that most listings **DO NOT** come with salary information. You'll need to be able to extrapolate or predict the expected salaries for these listings."
   ]
  },
  {
   "cell_type": "markdown",
   "metadata": {
    "focus": false,
    "id": "a948d79c-5527-4c0d-ab23-f5d43ce72056"
   },
   "source": [
    "### Scraping job listings from Indeed.com"
   ]
  },
  {
   "cell_type": "markdown",
   "metadata": {
    "focus": true,
    "id": "7203e0c9-e437-4802-a6ad-7dc464f94436"
   },
   "source": [
    "We will be scraping job listings from Indeed.com using BeautifulSoup. Luckily, Indeed.com is a simple text page where we can easily find relevant entries.\n",
    "\n",
    "First, look at the source of an Indeed.com page: (http://www.indeed.com/jobs?q=data+scientist+%2420%2C000&l=New+York&start=10\").\n",
    "\n",
    "Notice, each job listing is underneath a `div` tag with a class name of `result`. We can use BeautifulSoup to extract those. "
   ]
  },
  {
   "cell_type": "markdown",
   "metadata": {
    "focus": false,
    "id": "9732c901-ae26-4160-8376-42e22dd327df"
   },
   "source": [
    "#### Setup a request (using `requests`) to the URL below. Use BeautifulSoup to parse the page and extract all results (HINT: Look for div tags with class name result)\n",
    "\n",
    "The URL here has many query parameters:\n",
    "\n",
    "- `q` for the job search\n",
    "- This is followed by \"+20,000\" to return results with salaries (or expected salaries >$20,000)\n",
    "- `l` for a location \n",
    "- `start` for what result number to start on"
   ]
  },
  {
   "cell_type": "code",
   "execution_count": 275,
   "metadata": {},
   "outputs": [],
   "source": [
    "from time import sleep, process_time\n",
    "import pandas as pd\n",
    "from random import randint\n",
    "import string\n",
    "from sklearn.pipeline import Pipeline,  make_union, make_pipeline\n",
    "from sklearn.linear_model import LogisticRegression\n",
    "from sklearn.ensemble import RandomForestClassifier, GradientBoostingClassifier\n",
    "from sklearn.neighbors import KNeighborsClassifier\n",
    "from sklearn.base import BaseEstimator, TransformerMixin\n",
    "from sklearn.preprocessing import LabelBinarizer, StandardScaler, OneHotEncoder\n",
    "from sklearn.impute import SimpleImputer\n",
    "from sklearn.model_selection import train_test_split, cross_val_score, GridSearchCV\n",
    "from sklearn.metrics import accuracy_score, confusion_matrix\n",
    "from sklearn.feature_extraction.text import CountVectorizer\n",
    "from sklearn.compose import ColumnTransformer, make_column_transformer, make_column_selector\n",
    "import requests\n",
    "import bs4\n",
    "from bs4 import BeautifulSoup\n",
    "import re\n",
    "import numpy as np\n",
    "import pickle\n",
    "import joblib\n",
    "import matplotlib.pyplot as plt\n",
    "from sklearn.metrics import precision_score\n",
    "import matplotlib.pyplot as plt"
   ]
  },
  {
   "cell_type": "code",
   "execution_count": 2,
   "metadata": {
    "focus": false,
    "id": "e915023e-6b0d-4982-af2a-b1e0355f4927"
   },
   "outputs": [],
   "source": [
    "URL = \"http://www.indeed.com/jobs?q=data+scientist+%2420%2C000&l=New+York&start=10\""
   ]
  },
  {
   "cell_type": "code",
   "execution_count": 4,
   "metadata": {
    "focus": false,
    "id": "2c6752c4-7704-4c94-8bc0-6f13d2d0d570"
   },
   "outputs": [],
   "source": [
    "r = requests.get(URL)\n",
    "soup = BeautifulSoup(r.text, 'html.parser')"
   ]
  },
  {
   "cell_type": "code",
   "execution_count": 5,
   "metadata": {},
   "outputs": [],
   "source": [
    "title = []\n",
    "company = []\n",
    "location = []\n",
    "salary = []\n",
    "for job in soup.find_all('div', attrs={'data-tn-component': 'organicJob' }):\n",
    "    try:\n",
    "        title.append(job.find('a', attrs={'class': 'jobtitle turnstileLink'}).text)\n",
    "    except:\n",
    "        title.append(np.nan)\n",
    "    try:\n",
    "        company.append(job.find('a',attrs={'data-tn-element': 'companyName'}))\n",
    "    except:\n",
    "        company.append(np.nan)\n",
    "    try:\n",
    "        location.append(job.find('span',attrs={'class':'location accessible-contrast-color-location'}).text)\n",
    "    except:\n",
    "        location.append(np.nan)\n",
    "    try:\n",
    "        salary.append(job)\n",
    "    except:\n",
    "        salary.append(np.nan)"
   ]
  },
  {
   "cell_type": "markdown",
   "metadata": {
    "focus": false,
    "id": "bb0b866a-26a7-45e9-8084-5a0f90eb4b3e"
   },
   "source": [
    "Let's look at one result more closely. A single `result` looks like\n",
    "\n",
    "```\n",
    "<div class=\" row result\" data-jk=\"2480d203f7e97210\" data-tn-component=\"organicJob\" id=\"p_2480d203f7e97210\" itemscope=\"\" itemtype=\"http://schema.org/JobPosting\">\n",
    "<h2 class=\"jobtitle\" id=\"jl_2480d203f7e97210\">\n",
    "<a class=\"turnstileLink\" data-tn-element=\"jobTitle\" onmousedown=\"return rclk(this,jobmap[0],1);\" rel=\"nofollow\" target=\"_blank\" title=\"AVP/Quantitative Analyst\">AVP/Quantitative Analyst</a>\n",
    "</h2>\n",
    "<span class=\"company\" itemprop=\"hiringOrganization\" itemtype=\"http://schema.org/Organization\">\n",
    "<span itemprop=\"name\">\n",
    "<a href=\"/cmp/Alliancebernstein?from=SERP&amp;campaignid=serp-linkcompanyname&amp;fromjk=2480d203f7e97210&amp;jcid=b374f2a780e04789\" target=\"_blank\">\n",
    "    AllianceBernstein</a></span>\n",
    "</span>\n",
    "<tr>\n",
    "<td class=\"snip\">\n",
    "<nobr>$117,500 - $127,500 a year</nobr>\n",
    "<div>\n",
    "<span class=\"summary\" itemprop=\"description\">\n",
    "C onduct quantitative and statistical research as well as portfolio management for various investment portfolios. Collaborate with Quantitative Analysts and</span>\n",
    "</div>\n",
    "</div>\n",
    "</td>\n",
    "</tr>\n",
    "</table>\n",
    "</div>\n",
    "```\n",
    "\n",
    "While this has some more verbose elements removed, we can see that there is some structure to the above:\n",
    "- The salary is in a `span` with `class='salaryText'`.\n",
    "- The title of a job is in a link with class set to `jobtitle` and a `data-tn-element='jobTitle'`.  \n",
    "- The location is set in a `span` with `class='location'`. \n",
    "- The company is set in a `span` with `class='company'`. \n",
    "- Decide which other components could be relevant, for example the region or the summary of the job advert."
   ]
  },
  {
   "cell_type": "markdown",
   "metadata": {
    "focus": false,
    "id": "f1eddb90-4ba8-483c-a229-77e93aa53119"
   },
   "source": [
    "### Write 4 functions to extract each item: location, company, job, and salary.\n",
    "\n",
    "Example: \n",
    "```python\n",
    "def extract_location_from_result(result):\n",
    "    return result.find ...\n",
    "```\n",
    "\n",
    "\n",
    "- **Make sure these functions are robust and can handle cases where the data/field may not be available.**\n",
    "    - Remember to check if a field is empty or `None` for attempting to call methods on it.\n",
    "    - Remember to use `try/except` if you anticipate errors.\n",
    "- **Test** the functions on the results above and simple examples."
   ]
  },
  {
   "cell_type": "code",
   "execution_count": 7,
   "metadata": {},
   "outputs": [],
   "source": [
    "#this is my url with advanced search terms included\n",
    "url  = 'https://www.indeed.co.uk/jobs?as_and=data&as_phr=&\\\n",
    "as_any=scientist%2C+analyst%2C+engineer%2C+machine+learning%2C+\\\n",
    "natural+language%2C+developer%2C+programmer%2C+architect&as_not=\\\n",
    "&as_ttl=&as_cmp=&jt=all&st=&salary=&radius=100&l=\\\n",
    "london&fromage=any&limit=50&sort=&psf=advsrch&from=advancedsearch'"
   ]
  },
  {
   "cell_type": "code",
   "execution_count": 123,
   "metadata": {
    "focus": false,
    "id": "a1af53c9-9090-494f-b82e-cadb60a54909"
   },
   "outputs": [],
   "source": [
    "#do for SPAN AND DIV\n",
    "\n",
    "def get_title(result):\n",
    "    try:\n",
    "        return result.find('a', attrs={'class': 'jobtitle turnstileLink'}).text\n",
    "    except:\n",
    "        return np.nan\n",
    "      \n",
    "def get_loc(result):\n",
    "    try:\n",
    "        return result.find('span',attrs={'class':'location accessible-contrast-color-location'}).text\n",
    "    except:\n",
    "        return np.nan\n",
    "    \n",
    "def get_company(result):\n",
    "    try:\n",
    "        c1 = result.find('a',attrs={'data-tn-element': 'companyName'})\n",
    "        c2 = result.find('span',attrs={'class': 'company'})\n",
    "        if c1 != None:\n",
    "            return c1.text\n",
    "        elif c2 !=None:\n",
    "            return c2.text \n",
    "        else:\n",
    "            np.nan\n",
    "    except:\n",
    "        return np.nan\n",
    "    \n",
    "def get_salary(result):  \n",
    "    try:\n",
    "        s1 = result.find('span',attrs={'class':'salaryText'})\n",
    "        s2 = result.find('span',attrs={'class':'salary no-wrap'})\n",
    "        if s1 != None:\n",
    "            return s1.text\n",
    "        elif s2 !=None:\n",
    "            return s2.text \n",
    "        else:\n",
    "            np.nan\n",
    "    except:\n",
    "        return np.nan\n",
    "    \n",
    "def get_date(result):  \n",
    "    try:\n",
    "        return result.find('span',attrs={'class':'date'}).text\n",
    "    except:\n",
    "        return np.nan  \n",
    "def get_desc(result):\n",
    "    try:\n",
    "        return result.find('div', attrs={'class': 'summary'}).text\n",
    "    except:\n",
    "        return np.nan"
   ]
  },
  {
   "cell_type": "markdown",
   "metadata": {
    "focus": false,
    "id": "34070e89-9521-4b45-90c8-57a6599aac68"
   },
   "source": [
    "Now, to scale up our scraping, we need to accumulate more results. We can do this by examining the URL above.\n",
    "\n",
    "- \"http://www.indeed.com/jobs?q=data+scientist+%2420%2C000&l=New+York&start=10\"\n",
    "\n",
    "There are two query parameters here we can alter to collect more results, the `l=New+York` and the `start=10`. The first controls the location of the results (so we can try a different city). The second controls where in the results to start and gives 10 results (thus, we can keep incrementing by 10 to go further in the list)."
   ]
  },
  {
   "cell_type": "markdown",
   "metadata": {
    "focus": false,
    "id": "e8beed7c-3e42-40c0-810f-5f67f8f885a0"
   },
   "source": [
    "### Complete the following code to collect results from multiple cities and starting points. \n",
    "- Enter your city below to add it to the search.\n",
    "- Remember to convert your salary to U.S. Dollars to match the other cities if the currency is different."
   ]
  },
  {
   "cell_type": "code",
   "execution_count": null,
   "metadata": {},
   "outputs": [],
   "source": [
    "url = 'https://www.indeed.co.uk/jobs?q=data+%28scientist+or+analyst+or+engineer+or+machine+or+learning+or+natural+or+language+or+developer+or+programmer+or+architect%29&l=london&radius=100&ts=1602791788606&rq=1&rsIdx=0&fromage=last&newcount=28&start={}'"
   ]
  },
  {
   "cell_type": "markdown",
   "metadata": {},
   "source": [
    "Need to do more searches with a smaller radius each time. "
   ]
  },
  {
   "cell_type": "code",
   "execution_count": null,
   "metadata": {},
   "outputs": [],
   "source": [
    "url = 'https://www.indeed.co.uk/jobs?q=data+(scientist+or+analyst+or+engineer+or+machine+or+learning+or+natural+or+language+or+developer+or+programmer+or+architect)&l=london&radius=100&start=10'"
   ]
  },
  {
   "cell_type": "code",
   "execution_count": null,
   "metadata": {},
   "outputs": [],
   "source": [
    "M10 6L8.59 7.41 13.17 12l-4.58 4.59L10 18l6-6-6-6z"
   ]
  },
  {
   "cell_type": "code",
   "execution_count": 134,
   "metadata": {
    "focus": false,
    "id": "04b0f9af-540e-402f-8292-81748707c676",
    "scrolled": true
   },
   "outputs": [
    {
     "name": "stdout",
     "output_type": "stream",
     "text": [
      "city:  Newcastle Upon Tyne\n",
      "0 results shown\n",
      "100 results shown\n",
      "200 results shown\n",
      "300 results shown\n",
      "Request: 38, Time passed: 13.082903999999985, Frequency: 2.904553912495272 per second\n",
      "city:  Cambridge\n",
      "0 results shown\n",
      "100 results shown\n",
      "200 results shown\n",
      "300 results shown\n",
      "400 results shown\n",
      "500 results shown\n",
      "600 results shown\n",
      "700 results shown\n",
      "Request: 110, Time passed: 37.27794399999999, Frequency: 2.9508065144365263 per second\n",
      "city:  Sheffield\n",
      "0 results shown\n",
      "100 results shown\n",
      "200 results shown\n",
      "300 results shown\n",
      "400 results shown\n",
      "500 results shown\n",
      "600 results shown\n",
      "700 results shown\n",
      "Request: 185, Time passed: 64.68433799999997, Frequency: 2.860043183869333 per second\n",
      "city:  Reading\n",
      "0 results shown\n",
      "100 results shown\n",
      "200 results shown\n",
      "300 results shown\n",
      "400 results shown\n",
      "500 results shown\n",
      "600 results shown\n",
      "700 results shown\n",
      "Request: 258, Time passed: 87.78165000000001, Frequency: 2.939110850616273 per second\n",
      "city:  Bournemouth\n",
      "0 results shown\n",
      "100 results shown\n",
      "200 results shown\n",
      "300 results shown\n",
      "400 results shown\n",
      "500 results shown\n",
      "600 results shown\n",
      "Request: 323, Time passed: 110.11406999999997, Frequency: 2.9333217816760393 per second\n",
      "city:  Exeter\n",
      "0 results shown\n",
      "100 results shown\n",
      "200 results shown\n",
      "Request: 350, Time passed: 119.223658, Frequency: 2.9356589612440844 per second\n",
      "city:  Leeds\n",
      "0 results shown\n",
      "100 results shown\n",
      "200 results shown\n",
      "300 results shown\n",
      "400 results shown\n",
      "500 results shown\n",
      "600 results shown\n",
      "700 results shown\n",
      "Request: 424, Time passed: 143.62881199999998, Frequency: 2.952053937478784 per second\n",
      "city:  Essex\n",
      "0 results shown\n",
      "100 results shown\n",
      "200 results shown\n",
      "300 results shown\n",
      "400 results shown\n",
      "500 results shown\n",
      "600 results shown\n",
      "700 results shown\n",
      "Request: 496, Time passed: 167.083466, Frequency: 2.9685761965220427 per second\n",
      "city:  Glasgow\n",
      "0 results shown\n",
      "100 results shown\n",
      "200 results shown\n",
      "300 results shown\n",
      "400 results shown\n",
      "500 results shown\n",
      "600 results shown\n",
      "700 results shown\n",
      "Request: 567, Time passed: 188.223698, Frequency: 3.0123730753605744 per second\n",
      "city:  Bristol\n",
      "0 results shown\n",
      "100 results shown\n",
      "200 results shown\n",
      "300 results shown\n",
      "400 results shown\n",
      "500 results shown\n",
      "600 results shown\n",
      "700 results shown\n",
      "Request: 640, Time passed: 210.11953800000003, Frequency: 3.045885242713602 per second\n",
      "city:  Manchester\n",
      "0 results shown\n",
      "100 results shown\n",
      "200 results shown\n",
      "300 results shown\n",
      "400 results shown\n",
      "500 results shown\n",
      "600 results shown\n",
      "700 results shown\n",
      "Request: 713, Time passed: 232.77828999999997, Frequency: 3.0630004198415586 per second\n",
      "city:  Liverpool\n",
      "0 results shown\n",
      "100 results shown\n",
      "200 results shown\n",
      "300 results shown\n",
      "400 results shown\n",
      "500 results shown\n",
      "600 results shown\n",
      "700 results shown\n",
      "Request: 787, Time passed: 257.49692000000005, Frequency: 3.0563472370853986 per second\n",
      "city:  London\n",
      "0 results shown\n",
      "100 results shown\n",
      "200 results shown\n",
      "300 results shown\n",
      "400 results shown\n",
      "500 results shown\n",
      "600 results shown\n",
      "700 results shown\n",
      "Request: 859, Time passed: 282.40324799999996, Frequency: 3.0417497181193895 per second\n"
     ]
    }
   ],
   "source": [
    "t = process_time()\n",
    "requestsno = 0\n",
    "\n",
    "max_results_per_city = 10# Set this to a high-value (5000) to generate more results. \n",
    "# Crawling more results, will also take much longer. First test your code on a small number of results and then expand.\n",
    "\n",
    "results = []\n",
    "for city in set(['London', 'Manchester', 'Cambridge','Glasgow',\\\n",
    "                 'Liverpool', 'Bristol', 'Newcastle Upon Tyne', 'Sheffield', \\\n",
    "                 'Reading',  'Leeds', 'Exeter', 'Essex', 'Bournemouth']):\n",
    "#                 'Brighton', 'Glasgow', 'Stoke', 'Bicester','Liverpool', \\\n",
    "#                  'Birmingham', 'Oxford', 'Edinburgh', 'Kent', 'Cardiff']):\n",
    "\n",
    "    print('city: ', city)\n",
    "    start = 0\n",
    "    while True:\n",
    "        URL = f'https://www.indeed.co.uk/jobs?q=data+%28scientist\\\n",
    "+or+analyst+or+engineer+or+machine+or+learning+or+natural+or+\\\n",
    "language+or+developer+or+programmer+or+architect%29&l={city}&radius=\\\n",
    "50&ts=1602791788606&rq=1&rsIdx=0&fromage=last&newcount=28&start={start}'\n",
    "\n",
    "        r = requests.get(URL)\n",
    "        soup = BeautifulSoup(r.text, 'html.parser')\n",
    "        for job in soup.find_all('div', attrs={'class': \"jobsearch-SerpJobCard\" }):\n",
    "            results.append((get_title(job), get_loc(job), get_salary(job), get_company(job), get_date(job), city, get_desc(job)))\n",
    "        sleep(randint(5,9))\n",
    "\n",
    "        #for monitoring\n",
    "        requestsno+=1\n",
    "        elapsed_time = process_time() -  t\n",
    "        if start % 100 == 0:\n",
    "            print(start, 'results shown')\n",
    "        if soup.find(d='M10 6L8.59 7.41 13.17 12l-4.58 4.59L10 18l6-6-6-6z') is None:\n",
    "            break\n",
    "        start+=10\n",
    "\n",
    "    print('Request: {}, Time passed: {}, Frequency: {} per second'.format(requestsno, elapsed_time, requestsno/elapsed_time))"
   ]
  },
  {
   "cell_type": "code",
   "execution_count": 135,
   "metadata": {},
   "outputs": [],
   "source": [
    "df_unclean = pd.DataFrame(results)\n",
    "df_unclean.columns = ['title', 'location', 'salary', 'company', 'days_old', 'city', 'desc']"
   ]
  },
  {
   "cell_type": "code",
   "execution_count": 137,
   "metadata": {},
   "outputs": [
    {
     "data": {
      "text/html": [
       "<div>\n",
       "<style scoped>\n",
       "    .dataframe tbody tr th:only-of-type {\n",
       "        vertical-align: middle;\n",
       "    }\n",
       "\n",
       "    .dataframe tbody tr th {\n",
       "        vertical-align: top;\n",
       "    }\n",
       "\n",
       "    .dataframe thead th {\n",
       "        text-align: right;\n",
       "    }\n",
       "</style>\n",
       "<table border=\"1\" class=\"dataframe\">\n",
       "  <thead>\n",
       "    <tr style=\"text-align: right;\">\n",
       "      <th></th>\n",
       "      <th>title</th>\n",
       "      <th>location</th>\n",
       "      <th>salary</th>\n",
       "      <th>company</th>\n",
       "      <th>days_old</th>\n",
       "      <th>city</th>\n",
       "      <th>desc</th>\n",
       "    </tr>\n",
       "  </thead>\n",
       "  <tbody>\n",
       "    <tr>\n",
       "      <td>0</td>\n",
       "      <td>\\nSoftware Engineer (C#, Python, Machine Learn...</td>\n",
       "      <td>NaN</td>\n",
       "      <td>\\n£25,000 - £32,000 a year</td>\n",
       "      <td>\\nCloudTrade</td>\n",
       "      <td>8 days ago</td>\n",
       "      <td>Newcastle Upon Tyne</td>\n",
       "      <td>\\n\\n1+ years commercial experience in C# or si...</td>\n",
       "    </tr>\n",
       "    <tr>\n",
       "      <td>1</td>\n",
       "      <td>\\nApprentice Analyst - Office 365 Engineer</td>\n",
       "      <td>Newcastle upon Tyne</td>\n",
       "      <td>\\n£19,995 - £24,125 a year</td>\n",
       "      <td>\\nUK Government - Advisory, Conciliation and A...</td>\n",
       "      <td>8 days ago</td>\n",
       "      <td>Newcastle Upon Tyne</td>\n",
       "      <td>\\n\\nComply at all times with the relevant secu...</td>\n",
       "    </tr>\n",
       "    <tr>\n",
       "      <td>2</td>\n",
       "      <td>\\nJunior Marketing Executive</td>\n",
       "      <td>NaN</td>\n",
       "      <td>\\n£18,762 - £22,000 a year</td>\n",
       "      <td>\\nOne Utility Bill</td>\n",
       "      <td>Today</td>\n",
       "      <td>Newcastle Upon Tyne</td>\n",
       "      <td>\\n\\nYou’ll need to be comfortable digesting an...</td>\n",
       "    </tr>\n",
       "    <tr>\n",
       "      <td>3</td>\n",
       "      <td>\\nJunior Data Analyst</td>\n",
       "      <td>Newcastle upon Tyne</td>\n",
       "      <td>None</td>\n",
       "      <td>\\nIon Industries</td>\n",
       "      <td>30+ days ago</td>\n",
       "      <td>Newcastle Upon Tyne</td>\n",
       "      <td>\\n\\nA GCSE grade 4 or above in Maths and Engli...</td>\n",
       "    </tr>\n",
       "    <tr>\n",
       "      <td>4</td>\n",
       "      <td>\\nMachine Learning Developer</td>\n",
       "      <td>Newcastle upon Tyne</td>\n",
       "      <td>\\n£45,000 - £50,000 a year</td>\n",
       "      <td>\\nEurobase People</td>\n",
       "      <td>Today</td>\n",
       "      <td>Newcastle Upon Tyne</td>\n",
       "      <td>\\n\\nCan Analyse trends and data.\\nI'm looking ...</td>\n",
       "    </tr>\n",
       "    <tr>\n",
       "      <td>...</td>\n",
       "      <td>...</td>\n",
       "      <td>...</td>\n",
       "      <td>...</td>\n",
       "      <td>...</td>\n",
       "      <td>...</td>\n",
       "      <td>...</td>\n",
       "      <td>...</td>\n",
       "    </tr>\n",
       "    <tr>\n",
       "      <td>13123</td>\n",
       "      <td>\\nStock Analyst</td>\n",
       "      <td>NaN</td>\n",
       "      <td>\\n£40,000 - £45,000 a year</td>\n",
       "      <td>\\nMichael Page UK</td>\n",
       "      <td>29 days ago</td>\n",
       "      <td>London</td>\n",
       "      <td>\\n\\nThe successful candidate will have experie...</td>\n",
       "    </tr>\n",
       "    <tr>\n",
       "      <td>13124</td>\n",
       "      <td>\\nTreasury Analyst</td>\n",
       "      <td>NaN</td>\n",
       "      <td>\\n£40,000 - £45,000 a year</td>\n",
       "      <td>\\nMichael Page UK</td>\n",
       "      <td>30+ days ago</td>\n",
       "      <td>London</td>\n",
       "      <td>\\n\\nUniversity graduate, preferably in a maths...</td>\n",
       "    </tr>\n",
       "    <tr>\n",
       "      <td>13125</td>\n",
       "      <td>\\nCorporate Finance Analyst</td>\n",
       "      <td>NaN</td>\n",
       "      <td>\\n£55,000 - £60,000 a year</td>\n",
       "      <td>\\nMichael Page UK</td>\n",
       "      <td>29 days ago</td>\n",
       "      <td>London</td>\n",
       "      <td>\\n\\nManage market data and analysis.\\nAbility ...</td>\n",
       "    </tr>\n",
       "    <tr>\n",
       "      <td>13126</td>\n",
       "      <td>\\nParking Engineer</td>\n",
       "      <td>NaN</td>\n",
       "      <td>\\n£30 an hour</td>\n",
       "      <td>\\nCarrington West</td>\n",
       "      <td>5 days ago</td>\n",
       "      <td>London</td>\n",
       "      <td>\\n\\nYour data will be shared with third party ...</td>\n",
       "    </tr>\n",
       "    <tr>\n",
       "      <td>13127</td>\n",
       "      <td>\\nFront:End Developer</td>\n",
       "      <td>NaN</td>\n",
       "      <td>None</td>\n",
       "      <td>\\nExposed Solutions Limited</td>\n",
       "      <td>Just posted</td>\n",
       "      <td>London</td>\n",
       "      <td>\\n\\n: Experience working with geospatial data ...</td>\n",
       "    </tr>\n",
       "  </tbody>\n",
       "</table>\n",
       "<p>13128 rows × 7 columns</p>\n",
       "</div>"
      ],
      "text/plain": [
       "                                                   title             location  \\\n",
       "0      \\nSoftware Engineer (C#, Python, Machine Learn...                  NaN   \n",
       "1             \\nApprentice Analyst - Office 365 Engineer  Newcastle upon Tyne   \n",
       "2                           \\nJunior Marketing Executive                  NaN   \n",
       "3                                  \\nJunior Data Analyst  Newcastle upon Tyne   \n",
       "4                           \\nMachine Learning Developer  Newcastle upon Tyne   \n",
       "...                                                  ...                  ...   \n",
       "13123                                    \\nStock Analyst                  NaN   \n",
       "13124                                 \\nTreasury Analyst                  NaN   \n",
       "13125                        \\nCorporate Finance Analyst                  NaN   \n",
       "13126                                 \\nParking Engineer                  NaN   \n",
       "13127                              \\nFront:End Developer                  NaN   \n",
       "\n",
       "                           salary  \\\n",
       "0      \\n£25,000 - £32,000 a year   \n",
       "1      \\n£19,995 - £24,125 a year   \n",
       "2      \\n£18,762 - £22,000 a year   \n",
       "3                            None   \n",
       "4      \\n£45,000 - £50,000 a year   \n",
       "...                           ...   \n",
       "13123  \\n£40,000 - £45,000 a year   \n",
       "13124  \\n£40,000 - £45,000 a year   \n",
       "13125  \\n£55,000 - £60,000 a year   \n",
       "13126               \\n£30 an hour   \n",
       "13127                        None   \n",
       "\n",
       "                                                 company      days_old  \\\n",
       "0                                           \\nCloudTrade    8 days ago   \n",
       "1      \\nUK Government - Advisory, Conciliation and A...    8 days ago   \n",
       "2                                     \\nOne Utility Bill         Today   \n",
       "3                                       \\nIon Industries  30+ days ago   \n",
       "4                                      \\nEurobase People         Today   \n",
       "...                                                  ...           ...   \n",
       "13123                                  \\nMichael Page UK   29 days ago   \n",
       "13124                                  \\nMichael Page UK  30+ days ago   \n",
       "13125                                  \\nMichael Page UK   29 days ago   \n",
       "13126                                  \\nCarrington West    5 days ago   \n",
       "13127                        \\nExposed Solutions Limited   Just posted   \n",
       "\n",
       "                      city                                               desc  \n",
       "0      Newcastle Upon Tyne  \\n\\n1+ years commercial experience in C# or si...  \n",
       "1      Newcastle Upon Tyne  \\n\\nComply at all times with the relevant secu...  \n",
       "2      Newcastle Upon Tyne  \\n\\nYou’ll need to be comfortable digesting an...  \n",
       "3      Newcastle Upon Tyne  \\n\\nA GCSE grade 4 or above in Maths and Engli...  \n",
       "4      Newcastle Upon Tyne  \\n\\nCan Analyse trends and data.\\nI'm looking ...  \n",
       "...                    ...                                                ...  \n",
       "13123               London  \\n\\nThe successful candidate will have experie...  \n",
       "13124               London  \\n\\nUniversity graduate, preferably in a maths...  \n",
       "13125               London  \\n\\nManage market data and analysis.\\nAbility ...  \n",
       "13126               London  \\n\\nYour data will be shared with third party ...  \n",
       "13127               London  \\n\\n: Experience working with geospatial data ...  \n",
       "\n",
       "[13128 rows x 7 columns]"
      ]
     },
     "execution_count": 137,
     "metadata": {},
     "output_type": "execute_result"
    }
   ],
   "source": [
    "df_unclean"
   ]
  },
  {
   "cell_type": "code",
   "execution_count": 138,
   "metadata": {},
   "outputs": [],
   "source": [
    "#pickling so i can return to these results later\n",
    "df_unclean.to_pickle('ldn-manc-cam22.pkl')\n",
    "# df_ = pd.read_pickle('scraped.pkl')\n",
    "# df_.columns = ['title', 'location', 'salary', 'company', 'days_old']"
   ]
  },
  {
   "cell_type": "code",
   "execution_count": 5,
   "metadata": {},
   "outputs": [],
   "source": [
    "p1 = pd.read_pickle('bath-notts-guildford19.pkl')\n",
    "p2 = pd.read_pickle('brighton-kent-edin.pkl')\n",
    "p3 = pd.read_pickle('brighton-stoke19.pkl')\n",
    "p4 = pd.read_pickle('ldn-cam19.pkl')\n",
    "p5 = pd.read_pickle('ldn-manc-leeds.pkl')\n",
    "p6 = pd.read_pickle('scraped.pkl')\n",
    "p7 = pd.read_pickle('br-gl-st-bi-li22.pkl')\n",
    "p8 = pd.read_pickle('ldn-manc-cam22.pkl')"
   ]
  },
  {
   "cell_type": "code",
   "execution_count": 6,
   "metadata": {},
   "outputs": [],
   "source": [
    "df_19 = pd.concat([p1,p2,p3,p4,p5,p6,p7,p8]).drop(columns=[0])"
   ]
  },
  {
   "cell_type": "markdown",
   "metadata": {
    "focus": false,
    "id": "20339c09-5032-4e27-91be-286e9b46cd13"
   },
   "source": [
    "#### Use the functions you wrote above to parse out the 4 fields - location, title, company and salary. Create a dataframe from the results with those 4 columns."
   ]
  },
  {
   "cell_type": "markdown",
   "metadata": {
    "focus": false,
    "id": "ff98ce64-78a7-441f-a675-63464e32c834"
   },
   "source": [
    "Lastly, we need to clean up salary data. \n",
    "\n",
    "1. Only a small number of the scraped results have salary information - only these will be used for modeling.\n",
    "1. Some of the salaries are not yearly but hourly or weekly, these will not be useful to us for now.\n",
    "1. Some of the entries may be duplicated.\n",
    "1. The salaries are given as text and usually with ranges."
   ]
  },
  {
   "cell_type": "markdown",
   "metadata": {
    "focus": false,
    "id": "ff98ce64-78a7-441f-a675-63464e32c834"
   },
   "source": [
    "#### Find the entries with annual salary entries, by filtering the entries without salaries or salaries that are not yearly (filter those that refer to hour or week). Also, remove duplicate entries."
   ]
  },
  {
   "cell_type": "code",
   "execution_count": 125,
   "metadata": {},
   "outputs": [],
   "source": [
    "#making a cleaning object\n",
    "#this means that each time I scrape I can clean quickly and easily\n",
    "class cleaning(BaseEstimator, TransformerMixin):\n",
    "    \n",
    "    def __init__(self):\n",
    "        pass\n",
    "    \n",
    "    #when there is a range for salary take the mean\n",
    "    def _salary_fix(self, x):        \n",
    "        \n",
    "    #removes everything which isnt a number or a hyphen\n",
    "        try: \n",
    "            pattern = re.compile(r'[\\d-]')\n",
    "            num_x =  ''.join(re.findall(pattern, x))\n",
    "        except:\n",
    "            return x\n",
    "\n",
    "        #checking if salary is a range\n",
    "        if '-' in num_x:\n",
    "            l = num_x.split('-')\n",
    "            lower = float(l[0])\n",
    "            upper = float(l[1])\n",
    "            mean = (lower+upper)/2\n",
    "            val = mean\n",
    "        else:\n",
    "            val = float(num_x)\n",
    "\n",
    "        #checking if salary is month, day, or year                \n",
    "        if 'month' in x:\n",
    "        #times by 12 if so\n",
    "            return val*12\n",
    "        \n",
    "        elif 'weekly' in x or 'week' in x:\n",
    "        #times by 225 if daily\n",
    "            return val*40\n",
    "\n",
    "        elif 'daily' in x or 'day' in x:\n",
    "        #times by 225 if daily\n",
    "            return val*218\n",
    "        \n",
    "        elif 'hourly' in x or 'hour' in x:\n",
    "        #times by 225 if daily\n",
    "            return np.nan\n",
    "\n",
    "\n",
    "        else:\n",
    "            return float(val)\n",
    "        \n",
    "    #remove \\n from strings\n",
    "    def _remove_n(self, x):\n",
    "        try: \n",
    "            return x.replace('\\n', '')\n",
    "        except:\n",
    "            return x\n",
    "        \n",
    "     #uses regex to remove the postcodes from location   \n",
    "    def _remove_postcode(self, location):\n",
    "        try:\n",
    "            #removes full postcodes\n",
    "            pattern = re.compile(r'([Gg][Ii][Rr] 0[Aa]{2})|((([A-Za-z][0-9]{1,2})|(([A-Za-z][A-Ha-hJ-Yj-y][0-9]{1,2})|(([A-Za-z][0-9][A-Za-z])|([A-Za-z][A-Ha-hJ-Yj-y][0-9][A-Za-z]?))))|\\s?[0-9][A-Za-z]{2})$')\n",
    "            result =  re.sub(pattern, '', location)\n",
    "            #a separate regex for removing only 1st half postcodes like SW14 (for readability)\n",
    "            pattern = re.compile(r'([A-Za-z][0-9]{1,2}).*|(([A-Za-z][A-Ha-hJ-Yj-y][0-9]{1,2})|(([A-Za-z][0-9][A-Za-z]).|([A-Za-z][A-Ha-hJ-Yj-y][0-9][A-Za-z]))).*')\n",
    "            result =  re.sub(pattern, '', result)\n",
    "            pattern = re.compile(r'\\s$')\n",
    "            result =  re.sub(pattern, '', result)\n",
    "            return result\n",
    "        except:\n",
    "            return location\n",
    "    \n",
    "    #cleaning the company category: removing Uk government from entries\n",
    "    def _govt_change(self, x):\n",
    "        if type(x) == str and 'UK Government' in x:\n",
    "            return x.replace('UK Government - ', '')\n",
    "        \n",
    "        #cleaning entries for GCHQ\n",
    "        elif type(x) == str and 'GCHQ' in x:\n",
    "            return 'GCHQ'\n",
    "        else:\n",
    "            return x    \n",
    "        \n",
    "        #going through the locations and seeing if in the job title\n",
    "    def _rmv_location(self, x):\n",
    "    \n",
    "        if type(x) == str:\n",
    "            for loc in self.locations_:\n",
    "                if loc in x:\n",
    "                    return x.replace(x, '')\n",
    "                else:\n",
    "                    return x\n",
    "        else:\n",
    "            return x\n",
    "        \n",
    "    #this function extracts and returns the job titles \n",
    "\n",
    "    def _title_remover(self, x):\n",
    "        if type(x) == str:\n",
    "            x = x.lower()\n",
    "            #extracts job titles and then puts it in a new column\n",
    "            pattern = re.compile(r'((data |machine learning |((?!\\sdata)(\\w*\\s){0,2}))(engineer|architect|scientist|developer|analyst))|(intern)|(research)|(data backend)')\n",
    "            result = re.search(pattern,x)\n",
    "            if result != None:\n",
    "                pattern = re.compile(r'data\\s(analyst|engineer|scientist)')\n",
    "                s = re.search(pattern, result.group(0))\n",
    "                \n",
    "                if s !=None:\n",
    "                    return s.group(0)\n",
    "                \n",
    "                #checking if only analyst is present. this needs to be removed.\n",
    "                pattern2 = re.compile(r'(?!data|business)\\sanalyst')\n",
    "                s2 = re.search(pattern2, result.group(0))\n",
    "                if s2 != None:\n",
    "                    return np.nan\n",
    "                else:\n",
    "                    return result.group(0)\n",
    "            else:\n",
    "        \n",
    "                return np.nan\n",
    "        else: \n",
    "            return np.nan\n",
    "        \n",
    "    #extracts job level   \n",
    "    def _level_extracter(self, x):\n",
    "        if type(x) == str:\n",
    "            x = x.lower()\n",
    "            \n",
    "            pattern = re.compile(r'junior|senior|graduate|intern|principal|executive|assistant')\n",
    "            result = re.search(pattern,x)\n",
    "            if result != None:\n",
    "                return result.group(0)\n",
    "            else:\n",
    "                return 'generic'\n",
    "        \n",
    "        else:\n",
    "            return 'generic'\n",
    "        \n",
    "    def _date_cleaner(self, x):\n",
    "        if type(x) == str:\n",
    "            try:\n",
    "                pattern = re.compile(r'\\d+')\n",
    "                result = re.search(pattern,x)\n",
    "                return result.group(0)\n",
    "            except:\n",
    "                return np.nan\n",
    "        else:\n",
    "            return np.nan\n",
    "        \n",
    "    def __fill_location_na(self, X):\n",
    "        if pd.isnull(X.location):\n",
    "            X.location = X.city\n",
    "        return X\n",
    "    \n",
    "#     def __title_fix(self, x):\n",
    "#         pattern = re.compile(r'data\\s(analyst|engineer|scientist)')\n",
    "#         s = re.search(pattern, x)\n",
    "#         if s !=None:\n",
    "#             return s.group(0)\n",
    "#         else:\n",
    "#             return x\n",
    "    \n",
    "    #this is the method to call to do the actual cleaning\n",
    "    def fit(self, df, *args):\n",
    "        print(type(df))\n",
    "        return self\n",
    "    \n",
    "    #remove numbers from desc\n",
    "    def __clean_desc(self, x):\n",
    "        if type(x) == str:\n",
    "            try:\n",
    "                x = re.sub(r'\\d+', '', x)\n",
    "                return x\n",
    "            except:\n",
    "                return np.nan\n",
    "        else:\n",
    "            return np.nan\n",
    "    \n",
    "    def transform(self, df, *args):\n",
    "        print(type(df))\n",
    "        df = df.applymap(self._remove_n)\n",
    "        df['salary'] = df.salary.map(self._salary_fix)\n",
    "        df['location'] = df.location.map(self._remove_postcode)\n",
    "        self.locations_ = df['location'].dropna().unique()\n",
    "        df['company'] = df.company.map(self._govt_change)\n",
    "        df['title'] =df.title.map(self._rmv_location)\n",
    "        df['short_title'] = df.title.map(self._title_remover)\n",
    "        df['level'] = df.title.map(self._level_extracter)\n",
    "        df['days_old'] = df.days_old.map(self._date_cleaner)\n",
    "        df = df.reset_index(drop=True).drop_duplicates()\n",
    "        df = df.apply(self.__fill_location_na, axis=1)\n",
    "        df['desc'] = df.desc.map(self.__clean_desc)\n",
    "        #dropping any left over missing values\n",
    "        df = df.dropna(how='any').reset_index(drop=True)\n",
    "        df.to_csv('indeed-scrape', index=False)\n",
    "        return df"
   ]
  },
  {
   "cell_type": "code",
   "execution_count": 126,
   "metadata": {},
   "outputs": [
    {
     "name": "stdout",
     "output_type": "stream",
     "text": [
      "<class 'pandas.core.frame.DataFrame'>\n",
      "<class 'pandas.core.frame.DataFrame'>\n"
     ]
    }
   ],
   "source": [
    "c = cleaning()\n",
    "c.fit(df_19)\n",
    "df_c = c.transform(df_19)"
   ]
  },
  {
   "cell_type": "code",
   "execution_count": 113,
   "metadata": {},
   "outputs": [],
   "source": [
    "def clean_desc( x):\n",
    "        if type(x) == str:\n",
    "            try:\n",
    "                x = re.sub(r'\\d+', '', x)\n",
    "                return x\n",
    "            except:\n",
    "                return x\n",
    "        else:\n",
    "            return np.nan"
   ]
  },
  {
   "cell_type": "markdown",
   "metadata": {
    "focus": false,
    "id": "43e71edd-210e-42b1-9336-70a931f048af"
   },
   "source": [
    "### Save your results as a CSV"
   ]
  },
  {
   "cell_type": "code",
   "execution_count": 461,
   "metadata": {
    "focus": false,
    "id": "783fd153-28ac-47ab-bfca-27e7c1de95b4"
   },
   "outputs": [],
   "source": [
    "df_c.to_csv('indeed_scrape_18-10.csv', index=False)"
   ]
  },
  {
   "cell_type": "markdown",
   "metadata": {},
   "source": [
    "## Clean Salaries"
   ]
  },
  {
   "cell_type": "markdown",
   "metadata": {},
   "source": [
    "The following function is in my class. It takes the average if the salary is a range, and multiplies the number if  it is per month or day or week."
   ]
  },
  {
   "cell_type": "code",
   "execution_count": null,
   "metadata": {},
   "outputs": [],
   "source": [
    "#when there is a range for salary take the mean\n",
    "def salary_fix(self, x):        \n",
    "\n",
    "#removes everything which isnt a number or a hyphen\n",
    "    try: \n",
    "        pattern = re.compile(r'[\\d-]')\n",
    "        num_x =  ''.join(re.findall(pattern, x))\n",
    "    except:\n",
    "        return x\n",
    "\n",
    "    #checking if salary is a range\n",
    "    if '-' in num_x:\n",
    "        l = num_x.split('-')\n",
    "        lower = float(l[0])\n",
    "        upper = float(l[1])\n",
    "        mean = (lower+upper)/2\n",
    "        val = mean\n",
    "    else:\n",
    "        val = float(num_x)\n",
    "\n",
    "    #checking if salary is month, day, or year                \n",
    "    if 'month' in x:\n",
    "    #times by 12 if so\n",
    "        return val*12\n",
    "\n",
    "    elif 'weekly' in x or 'week' in x:\n",
    "    #times by 225 if daily\n",
    "        return val*45\n",
    "\n",
    "    elif 'daily' in x or 'day' in x:\n",
    "    #times by 225 if daily\n",
    "        return val*225\n",
    "\n",
    "    elif 'hour' in x or 'hourly' in x:\n",
    "    #i'm going to ignore hourly pay because it doesn't imply a long-term full time contract\n",
    "        return val*225\n",
    "\n",
    "    else:\n",
    "        return float(val)"
   ]
  },
  {
   "cell_type": "markdown",
   "metadata": {},
   "source": [
    "### Cleaning Job Titles\n",
    "\n",
    "I need to figure out what to do with the job titles. Lots of the entries are very inconsistent and say a job title like 'Data Scientist', but then include lots of other information. Eventually, I am going to get the job title in one column and then make another column which is a list of keywords. I want to get a list of job titles where lots of rows have the same title, so I can group job types together in analysis later."
   ]
  },
  {
   "cell_type": "markdown",
   "metadata": {},
   "source": [
    "First, I need to get rid of location, salary, or company info which has crept into the job title. "
   ]
  },
  {
   "cell_type": "code",
   "execution_count": 134,
   "metadata": {},
   "outputs": [],
   "source": [
    "#a function which checks for any of the location values, or a country or a continent in the job title and drops it. \n",
    "def rmv_location(x):\n",
    "    \n",
    "    pattern = re.compile(r'(Data Scientist)|(Data Engineer)')\n",
    "    jobs_list = ['Data Scientist', 'Data Engineer', 'Data Analyst', 'Machine Learning Engineer', 'Developer']\n",
    "    \n",
    "    #going through the locations and seeing if in the job title\n",
    "    if type(x) == str:\n",
    "        locations = list[df_c.location.unique()] + ['Europe', 'UK', 'United Kingdom', 'EU', 'USA']\n",
    "        for loc in locations:\n",
    "            if loc in x:\n",
    "                return x.replace(x, '')\n",
    "            else:\n",
    "                return x"
   ]
  },
  {
   "cell_type": "markdown",
   "metadata": {},
   "source": [
    "In order to clean the job titles I will search each string for the words in my job search. I have written a regex which will get the words scientist, analyst, architect, developer, or engineer, if they come after 'data' or 'machine learning'."
   ]
  },
  {
   "cell_type": "code",
   "execution_count": 215,
   "metadata": {},
   "outputs": [],
   "source": [
    "#this function extracts and returns the job titles \n",
    "\n",
    "def title_remover(x):\n",
    "    if type(x) == str:\n",
    "        x = x.lower()\n",
    "        #extracts job titles and then puts it in a new column\n",
    "        pattern = re.compile(r'((data |machine learning |((?!\\sdata)(\\w*\\s){0,2}))(engineer|architect|scientist|developer|analyst))|(intern)|(research)|(data backend)')\n",
    "        result = re.search(pattern,x)\n",
    "        if result != None:\n",
    "            return result.group(0)\n",
    "        \n",
    "    else:\n",
    "        \n",
    "        return np.nan"
   ]
  },
  {
   "cell_type": "markdown",
   "metadata": {},
   "source": [
    "I will also extract from the title string the level of the job: whether it is senior, junior, principal, graduate, or not stated."
   ]
  },
  {
   "cell_type": "code",
   "execution_count": 225,
   "metadata": {},
   "outputs": [],
   "source": [
    "#this function extracts and returns the job level\n",
    "\n",
    "def level_extracter(x):\n",
    "    if type(x) == str:\n",
    "        x = x.lower()\n",
    "        #extracts job titles and then puts it in a new column\n",
    "        pattern = re.compile(r'junior|senior|graduate|intern|principal|executive|assistant')\n",
    "        result = re.search(pattern,x)\n",
    "        if result != None:\n",
    "            return result.group(0)\n",
    "        else:\n",
    "            return np.nan\n",
    "        \n",
    "    else:\n",
    "        return np.nan"
   ]
  },
  {
   "cell_type": "code",
   "execution_count": 64,
   "metadata": {},
   "outputs": [
    {
     "data": {
      "image/png": "[encoded data removed]",
      "text/plain": [
       "<Figure size 864x864 with 1 Axes>"
      ]
     },
     "metadata": {
      "needs_background": "light"
     },
     "output_type": "display_data"
    }
   ],
   "source": [
    "plt.figure(figsize=(12,12))\n",
    "plt.hist(df_c.salary, bins=100);\n",
    "#looks like there's a bit of a weird value at the top. I will drop it"
   ]
  },
  {
   "cell_type": "code",
   "execution_count": 131,
   "metadata": {},
   "outputs": [],
   "source": [
    "df_c  = df_c.drop(df_c[df_c.salary == df_c.salary.max()].index)"
   ]
  },
  {
   "cell_type": "code",
   "execution_count": 11,
   "metadata": {},
   "outputs": [],
   "source": [
    "df_c.to_csv('indeed-final.csv')"
   ]
  },
  {
   "cell_type": "markdown",
   "metadata": {
    "focus": false,
    "id": "c7631f51-07f2-4c79-a093-3e9bc7849a48"
   },
   "source": [
    "### We want to predict a binary variable - whether the salary was low or high. Compute the median salary and create a new binary variable that is true when the salary is high (above the median).\n",
    "\n",
    "We could also perform Linear Regression (or any regression) to predict the salary value here. Instead, we are going to convert this into a _binary_ classification problem, by predicting two classes, HIGH vs LOW salary.\n",
    "\n",
    "While performing regression may be better, performing classification may help remove some of the noise of the extreme salaries. We don't have to choose the `median` as the splitting point - we could also split on the 75th percentile or any other reasonable breaking point.\n",
    "\n",
    "In fact, the ideal scenario may be to predict many levels of salaries."
   ]
  },
  {
   "cell_type": "markdown",
   "metadata": {
    "focus": false,
    "id": "a7afb2c0-d41e-4779-8216-91cd8dd4473f"
   },
   "source": [
    "#### Thought experiment: What is the baseline accuracy for this model?"
   ]
  },
  {
   "cell_type": "code",
   "execution_count": 540,
   "metadata": {
    "focus": false,
    "id": "87a17d3d-b7f4-4747-9f75-f9af1d18a174"
   },
   "outputs": [
    {
     "data": {
      "text/plain": [
       "0.5037037037037037"
      ]
     },
     "execution_count": 540,
     "metadata": {},
     "output_type": "execute_result"
    }
   ],
   "source": [
    "df_c.sal_high.value_counts(normalize=True).max()"
   ]
  },
  {
   "cell_type": "markdown",
   "metadata": {
    "focus": false,
    "id": "4fb29de2-5b98-474c-a4ad-5170b72b9aea"
   },
   "source": [
    "### Create a classification model to predict High/Low salary. \n",
    "\n",
    "\n",
    "- Start by ONLY using the location as a feature.\n",
    "- Use at least two different classifiers you find suitable.\n",
    "- Remember that scaling your features might be necessary.\n",
    "- Display the coefficients/feature importances and write a short summary of what they mean.\n",
    "- Create a few new variables in your dataframe to represent interesting features of a job title (e.g. whether 'Senior' or 'Manager' is in the title).\n",
    "- Incorporate other text features from the title or summary that you believe will predict the salary.\n",
    "- Then build new classification models including also those features. Do they add any value?\n",
    "- Tune your models by testing parameter ranges, regularization strengths, etc. Discuss how that affects your models.\n",
    "- Discuss model coefficients or feature importances as applicable."
   ]
  },
  {
   "cell_type": "code",
   "execution_count": 256,
   "metadata": {
    "focus": false,
    "id": "c20d2498-151c-44c3-a453-3a333c79a0ac"
   },
   "outputs": [],
   "source": [
    "df_c = df_c.reset_index(drop=True)\n",
    "df_c['sal_high'] = df_c.salary.map(lambda x: 1 if x > df_c.salary.median() else 0)"
   ]
  },
  {
   "cell_type": "code",
   "execution_count": 257,
   "metadata": {},
   "outputs": [],
   "source": [
    "X = df_c[['company','days_old','short_title','title','level','location', 'city', 'desc']]\n",
    "y = df_c['sal_high']"
   ]
  },
  {
   "cell_type": "code",
   "execution_count": 258,
   "metadata": {},
   "outputs": [],
   "source": [
    "X_train,X_test, y_train,  y_test = train_test_split(X, y, test_size=0.33, random_state=42)"
   ]
  },
  {
   "cell_type": "markdown",
   "metadata": {},
   "source": [
    "### Making a pipeline for modelling just with location as predictor"
   ]
  },
  {
   "cell_type": "code",
   "execution_count": 262,
   "metadata": {},
   "outputs": [],
   "source": [
    "class IndeedPreprocessor(BaseEstimator, TransformerMixin):\n",
    "\n",
    "    def __init__(self, columns_to_drop = None, columns_to_dummify=None, drop_first=True):\n",
    "        self.feature_names = []\n",
    "        self.columns_to_drop = columns_to_drop\n",
    "        self.columns_to_dummify = columns_to_dummify\n",
    "        self.drop_first = drop_first\n",
    "        \n",
    "    def _drop_unused_cols(self, X):\n",
    "        for col in self.columns_to_drop:\n",
    "            try:\n",
    "                X = X.drop(col, axis=1)\n",
    "            except:\n",
    "                pass\n",
    "        return X\n",
    "\n",
    "    def transform(self, X, *args):\n",
    "        X = self._drop_unused_cols(X)\n",
    "        self.feature_names = X.columns\n",
    "        return X\n",
    "\n",
    "\n",
    "    def fit(self, X, *args):\n",
    "        return self"
   ]
  },
  {
   "cell_type": "markdown",
   "metadata": {},
   "source": [
    "### A new class to change location column\n",
    "I want to change my feature column, so that if a location only appears once, it is replaced by the more general search term for location. So for example, Brentford would be replaced with London."
   ]
  },
  {
   "cell_type": "code",
   "execution_count": 272,
   "metadata": {},
   "outputs": [],
   "source": [
    "#this class goes at the beginning of my pipeline and fixes the location variable.\n",
    "class Location_fix(BaseEstimator, TransformerMixin):\n",
    "    def __init__(self):\n",
    "        pass#self.column = column\n",
    "\n",
    "    def fit(self, X, *args):\n",
    "        return self\n",
    "\n",
    "    def transform(self, X, *args):\n",
    "        locs_and_cities = zip(X.location, X.city)\n",
    "        place, counts = np.unique(X.location.values, return_counts=True)\n",
    "        place_and_counts = list(zip(place, counts))\n",
    "        unique_places = [place[0] for place in place_and_counts if place[1]==1]\n",
    "        new_locs = [lc[1] if lc[0] in unique_places else lc[0] for lc in locs_and_cities]\n",
    "        X['location'] = new_locs\n",
    "        return X"
   ]
  },
  {
   "cell_type": "markdown",
   "metadata": {},
   "source": [
    "### Grid Searching with different classifiers to find the best one classifier and set of hyper-parameters."
   ]
  },
  {
   "cell_type": "code",
   "execution_count": 271,
   "metadata": {},
   "outputs": [],
   "source": [
    "scaler = StandardScaler()\n",
    "l_fix = Location_fix()\n",
    "ohe = OneHotEncoder(sparse=False, handle_unknown='ignore')\n",
    "ip = IndeedPreprocessor(columns_to_drop=['desc','level', 'short_title', 'company', 'days_old','title'])\n",
    "lr = LogisticRegression(solver='lbfgs', multi_class='ovr', max_iter = 10000)\n",
    "knn = KNeighborsClassifier()\n",
    "rf = RandomForestClassifier()\n",
    "gb= GradientBoostingClassifier(min_samples_split=30, max_depth=5, max_features='sqrt')\n",
    "models = [lr, knn, rf, gb]\n",
    "pipes = [make_pipeline(ip,l_fix, ohe, scaler,model) for model in models]"
   ]
  },
  {
   "cell_type": "markdown",
   "metadata": {},
   "source": [
    "Param_grids for diff pipelines"
   ]
  },
  {
   "cell_type": "code",
   "execution_count": 255,
   "metadata": {},
   "outputs": [],
   "source": [
    "params_lr = { 'logisticregression__penalty': ['l1', 'l2'],\n",
    "             'logisticregression__C': [1, 0.2, 0.6],\n",
    "             'logisticregression__solver': ['liblinear']      \n",
    "}\n",
    "\n",
    "params_knn = { 'kneighborsclassifier__n_neighbors': [5,10,20],\n",
    "              'kneighborsclassifier__weights': ['uniform', 'distance'],\n",
    "}\n",
    "\n",
    "params_rf = { 'randomforestclassifier__n_estimators': [100,200,300],\n",
    "             'randomforestclassifier__max_depth': [3,4,5],\n",
    "             'randomforestclassifier__max_features': ['auto', 3,10,20]    \n",
    "            }\n",
    "                 \n",
    "params_gb = { \n",
    "             'gradientboostingclassifier__n_estimators': [50,100,200,1000, 2000, 1500]        \n",
    "}\n"
   ]
  },
  {
   "cell_type": "code",
   "execution_count": 260,
   "metadata": {},
   "outputs": [],
   "source": [
    "#This function gridsearches different pipelines and finds the best one with the best params\n",
    "\n",
    "def grid_searcher(X_train=X_train, y_train=y_train, X_test=X_test, y_test=y_test, \\\n",
    "                  clfs=None, pipes = {}, \n",
    "                  param_list=[params_lr, params_gb, params_knn, params_rf], \\\n",
    "                  save=True, return_=False):\n",
    "    grids = {}\n",
    "    #setting up the gridsearches\n",
    "    assert 'LR' in clfs\n",
    "    if 'LR' in clfs:\n",
    "        LR = GridSearchCV(estimator=pipes['LR'],\n",
    "                param_grid=params_lr,\n",
    "                scoring='accuracy',\n",
    "                cv=5)\n",
    "        grids['LR']= LR\n",
    "   \n",
    "\n",
    "\n",
    "    if 'RF' in clfs:\n",
    "        RF = GridSearchCV(estimator=pipes['RF'],\n",
    "                param_grid=params_rf,\n",
    "                scoring='accuracy',\n",
    "                cv=5)\n",
    "        grids['RF'] = RF\n",
    "\n",
    "    if 'KNN'in clfs:\n",
    "        KNN = GridSearchCV(estimator=pipes['KNN'],\n",
    "                      param_grid=params_knn,\n",
    "                      scoring='accuracy',\n",
    "                      cv=5)\n",
    "        grids['KNN'] = KNN\n",
    "        \n",
    "    if 'GB' in clfs:\n",
    "        GB = GridSearchCV(estimator=pipes['GB'],\n",
    "                     param_grid=params_gb,\n",
    "                     scoring='accuracy')\n",
    "        grids['GB'] = GB\n",
    "\n",
    "\n",
    "    # Fit the grid search objects\n",
    "    print('Performing model optimizations...')\n",
    "    best_acc = 0.0\n",
    "    best_clf = 0\n",
    "    best_gs = ''\n",
    "    lisr = []\n",
    "\n",
    "    for name, gs in zip(grids.keys(), grids.values()):\n",
    "        print('\\nEstimator: %s' % name)\n",
    "\n",
    "        gs.fit(X_train, y_train)\n",
    "        print('Best params are : %s' % gs.best_params_)\n",
    "        # Best training data accuracy\n",
    "        print('Best training accuracy: %.3f' % gs.best_score_)\n",
    "        # Predict on test data with best params\n",
    "        y_pred = gs.predict(X_test)\n",
    "        # Test data accuracy of model with best params\n",
    "        print('Test set accuracy score for best params: %.3f ' % accuracy_score(y_test, y_pred))\n",
    "        # Track best (highest test accuracy) model\n",
    "        lisr.append(gs.best_params_)\n",
    "        if accuracy_score(y_test, y_pred) > best_acc:\n",
    "            best_acc = accuracy_score(y_test, y_pred)\n",
    "            best_preds = y_pred\n",
    "            best_gs = gs\n",
    "            best_name = name\n",
    "    print('\\nClassifier with best test set accuracy: %s' % best_name)\n",
    "    scores = cross_val_score(best_gs.best_estimator_, X_train,y_train)\n",
    "    print('CV scores of best estimator: ', scores, scores.mean())\n",
    "    \n",
    "    if save:\n",
    "        # Save best grid search pipeline to file\n",
    "        dump_file = 'best_grid_search_pipeline.pkl'\n",
    "        joblib.dump(best_gs, dump_file, compress=1)\n",
    "        print('\\nSaved %s grid search pipeline to file: %s' % (best_name, dump_file))\n",
    "    \n",
    "    cf = confusion_matrix(y_pred, y_test, labels = [0,1,2])\n",
    "    print(cf)\n",
    "    if return_:\n",
    "        return best_clf, best_gs, lisr, best_gs.best_estimator_"
   ]
  },
  {
   "cell_type": "code",
   "execution_count": 274,
   "metadata": {},
   "outputs": [
    {
     "name": "stdout",
     "output_type": "stream",
     "text": [
      "Performing model optimizations...\n",
      "\n",
      "Estimator: LR\n",
      "Best params are : {'logisticregression__C': 0.2, 'logisticregression__penalty': 'l1', 'logisticregression__solver': 'liblinear'}\n",
      "Best training accuracy: 0.632\n",
      "Test set accuracy score for best params: 0.649 \n",
      "\n",
      "Estimator: RF\n",
      "Best params are : {'randomforestclassifier__max_depth': 5, 'randomforestclassifier__max_features': 3, 'randomforestclassifier__n_estimators': 300}\n",
      "Best training accuracy: 0.635\n",
      "Test set accuracy score for best params: 0.630 \n",
      "\n",
      "Estimator: KNN\n",
      "Best params are : {'kneighborsclassifier__n_neighbors': 20, 'kneighborsclassifier__weights': 'distance'}\n",
      "Best training accuracy: 0.621\n",
      "Test set accuracy score for best params: 0.622 \n",
      "\n",
      "Classifier with best test set accuracy: LR\n",
      "CV scores of best estimator:  [0.63616071 0.59151786 0.66741071 0.62276786 0.640625  ] 0.6316964285714286\n",
      "[[333 206   0]\n",
      " [211 354   0]\n",
      " [  0   0   0]]\n"
     ]
    }
   ],
   "source": [
    "grid_searcher(clfs=['RF', 'LR', 'KNN'],\\\n",
    "              pipes = {'LR': pipes[0], 'KNN': pipes[1], 'RF': pipes[2]},\\\n",
    "              param_list = [params_rf, params_lr, params_knn], save=False)"
   ]
  },
  {
   "cell_type": "code",
   "execution_count": 67,
   "metadata": {},
   "outputs": [
    {
     "data": {
      "image/png": "[encoded data removed]",
      "text/plain": [
       "<Figure size 864x864 with 1 Axes>"
      ]
     },
     "metadata": {
      "needs_background": "light"
     },
     "output_type": "display_data"
    }
   ],
   "source": [
    "plt.figure(figsize=(9,12))\n",
    "plt.hist(df_c.salary, bins=100);"
   ]
  },
  {
   "cell_type": "markdown",
   "metadata": {},
   "source": [
    "## Predicting with multiple features."
   ]
  },
  {
   "cell_type": "markdown",
   "metadata": {},
   "source": [
    "I am going to classify salaries by how many sd they are from the mean.   \n",
    "Low = below mean    \n",
    "Medium = one sd above mean   \n",
    "high = more than one sd above mean"
   ]
  },
  {
   "cell_type": "code",
   "execution_count": 135,
   "metadata": {},
   "outputs": [],
   "source": [
    "def sal_class(x):\n",
    "    mean = df_c.salary.mean()\n",
    "    sd = df_c.salary.std()\n",
    "    if x < mean:\n",
    "        return 0\n",
    "    elif x >= mean and x<mean+sd:\n",
    "        return 1\n",
    "    else:\n",
    "        return 2"
   ]
  },
  {
   "cell_type": "code",
   "execution_count": 136,
   "metadata": {},
   "outputs": [],
   "source": [
    "df_c['sal_'] = df_c.salary.map(sal_class)"
   ]
  },
  {
   "cell_type": "code",
   "execution_count": 137,
   "metadata": {},
   "outputs": [
    {
     "name": "stdout",
     "output_type": "stream",
     "text": [
      "Performing model optimizations...\n",
      "\n",
      "Estimator: LR\n"
     ]
    },
    {
     "name": "stderr",
     "output_type": "stream",
     "text": [
      "/Users/williammaclean/opt/anaconda3/lib/python3.7/site-packages/sklearn/svm/_base.py:977: ConvergenceWarning: Liblinear failed to converge, increase the number of iterations.\n",
      "  \"the number of iterations.\", ConvergenceWarning)\n"
     ]
    },
    {
     "name": "stdout",
     "output_type": "stream",
     "text": [
      "Best params are : {'logisticregression__C': 1, 'logisticregression__penalty': 'l1', 'logisticregression__solver': 'liblinear'}\n",
      "Best training accuracy: 0.907\n",
      "Test set accuracy score for best params: 0.924 \n",
      "\n",
      "Estimator: RF\n",
      "Best params are : {'randomforestclassifier__max_depth': 4, 'randomforestclassifier__max_features': 'auto', 'randomforestclassifier__n_estimators': 100}\n",
      "Best training accuracy: 0.643\n",
      "Test set accuracy score for best params: 0.644 \n",
      "\n",
      "Estimator: KNN\n",
      "Best params are : {'kneighborsclassifier__n_neighbors': 5, 'kneighborsclassifier__weights': 'distance'}\n",
      "Best training accuracy: 0.893\n",
      "Test set accuracy score for best params: 0.907 \n",
      "\n",
      "Estimator: GB\n",
      "Best params are : {'gradientboostingclassifier__n_estimators': 1000}\n",
      "Best training accuracy: 0.907\n",
      "Test set accuracy score for best params: 0.922 \n",
      "\n",
      "Classifier with best test set accuracy: LR\n",
      "\n",
      "Saved LR grid search pipeline to file: best_grid_search_pipeline.pkl\n",
      "[[697  52  12]\n",
      " [ 12 215   8]\n",
      " [  2   0 106]]\n"
     ]
    }
   ],
   "source": [
    "X = X\n",
    "y = df_c['sal_']\n",
    "X_train,X_test, y_train,  y_test = train_test_split(X, y, test_size=0.33, random_state=42)\n",
    "\n",
    "#making a pipeline\n",
    "cvec = CountVectorizer(stop_words='english')\n",
    "ip = IndeedPreprocessor(columns_to_drop=['company', 'title'])\n",
    "one_hot = OneHotEncoder(handle_unknown='ignore', sparse=True)\n",
    "scaler = StandardScaler(with_mean=False)\n",
    "col_trans = ColumnTransformer([('desc', cvec, 'desc'), \n",
    "                           ('cats', one_hot, ['days_old', 'location', 'short_title','level', 'city'])],\n",
    "                          remainder='passthrough', # treatment for remaining columns\n",
    "                         sparse_threshold=1)\n",
    "models = [lr, knn,rf, gb]\n",
    "pipes = [make_pipeline(ip, col_trans, scaler, model) for model in models]\n",
    "\n",
    "\n",
    "params_lr = { 'logisticregression__penalty': ['l1', 'l2'],\n",
    "             'logisticregression__C': [1, 0.2, 0.6],\n",
    "             'logisticregression__solver': ['liblinear']      \n",
    "}\n",
    "\n",
    "params_knn = { 'kneighborsclassifier__n_neighbors': [5,10,20],\n",
    "              'kneighborsclassifier__weights': ['uniform', 'distance'],\n",
    "}\n",
    "\n",
    "params_rf = { 'randomforestclassifier__n_estimators': [100,200,300],\n",
    "             'randomforestclassifier__max_depth': [3,4,5],\n",
    "             'randomforestclassifier__max_features': ['auto', 3,10,20]    \n",
    "            }\n",
    "                 \n",
    "params_gb = { \n",
    "             'gradientboostingclassifier__n_estimators': [50,100,200,1000, 2000, 1500]        \n",
    "}\n",
    "\n",
    "\n",
    "best_clf, best_gs, lisr, best_gs = grid_searcher(clfs=['RF', 'LR', 'KNN', 'GB'],\\\n",
    "              pipes = {'LR': pipes[0], 'KNN': pipes[1], 'RF': pipes[2], 'GB': pipes[3]},\\\n",
    "              param_list = [params_rf, params_lr, params_knn, params_gb], return_=True)"
   ]
  },
  {
   "cell_type": "markdown",
   "metadata": {},
   "source": [
    "### Feature Importances"
   ]
  },
  {
   "cell_type": "code",
   "execution_count": 143,
   "metadata": {},
   "outputs": [],
   "source": [
    "best_ = best_gs.estimator\n",
    "f_names = best_gs.estimator['columntransformer'].get_feature_names()\n",
    "f_imp  = best_gs.estimator['logisticregression'].coef_\n",
    "imps = pd.DataFrame({'features': f_names, '0': f_imp[0], '1': f_imp[1], '2':f_imp[2]})\n",
    "imps[['0a','1a','2a']] = imps[['0','1','2']].apply(lambda x: abs(x))\n",
    "first = imps.sort_values(by='0a', ascending=False)[0:9]\n",
    "second = imps.sort_values(by='1a', ascending=False)[0:9]\n",
    "third = imps.sort_values(by='2a', ascending=False)[0:9]"
   ]
  },
  {
   "cell_type": "code",
   "execution_count": 185,
   "metadata": {},
   "outputs": [
    {
     "data": {
      "text/plain": [
       "Text(0.5, 1.0, 'class 2')"
      ]
     },
     "execution_count": 185,
     "metadata": {},
     "output_type": "execute_result"
    },
    {
     "data": {
      "image/png": "[encoded data removed]",
      "text/plain": [
       "<Figure size 1440x1080 with 3 Axes>"
      ]
     },
     "metadata": {
      "needs_background": "light"
     },
     "output_type": "display_data"
    }
   ],
   "source": [
    "fig, ax = plt.subplots(3,1, figsize=(20,15))\n",
    "ax[0].bar(first['features'], first['0'])\n",
    "ax[0].set_title('class 0')\n",
    "ax[1].bar(second['features'], second['1'])\n",
    "ax[1].set_title('class 1')\n",
    "ax[2].bar(third['features'], third['2'])\n",
    "ax[2].set_title('class 2')"
   ]
  },
  {
   "cell_type": "markdown",
   "metadata": {},
   "source": [
    "Surprisingly, a very good predictor of salary being high (class 2) appears to be when the job was posted. Newer jobs predict higher salaries. This might be something to do with listings for higher paid jobs being posted for not long on the website. \n",
    "\n",
    "Interestingly, the lower salaries do not have any high positive coefficients for a predicting feature. If there was 'data scientist', or 'liverpool' in the description, or if the job was posted 23 days ago, these are good signs the job is not a low salary."
   ]
  },
  {
   "cell_type": "markdown",
   "metadata": {
    "focus": false,
    "id": "4fb29de2-5b98-474c-a4ad-5170b72b9aea"
   },
   "source": [
    "### Model evaluation:\n",
    "\n",
    "- Use cross-validation to evaluate your models.\n",
    "- Plot the ROC and precision-recall curves for at least one of your models."
   ]
  },
  {
   "cell_type": "code",
   "execution_count": 231,
   "metadata": {},
   "outputs": [],
   "source": [
    "scores = cross_val_score(best_, X_train, y_train)"
   ]
  },
  {
   "cell_type": "code",
   "execution_count": 232,
   "metadata": {},
   "outputs": [
    {
     "name": "stdout",
     "output_type": "stream",
     "text": [
      "cv scores of best estimator:  [0.91071429 0.88169643 0.90401786 0.88616071 0.88392857]\n",
      "mean cv score of best estimator:  0.8933035714285715\n"
     ]
    }
   ],
   "source": [
    "print('cv scores of best estimator: ', scores)\n",
    "print('mean cv score of best estimator: ', scores.mean())"
   ]
  },
  {
   "cell_type": "markdown",
   "metadata": {},
   "source": [
    "- Evaluate the accuracy, AUC, precision and recall of the models."
   ]
  },
  {
   "cell_type": "markdown",
   "metadata": {},
   "source": [
    "The accuracies are above. Most are around 0.89-0.9, apart from random forest which does very badly and gets around .6 on test data."
   ]
  },
  {
   "cell_type": "code",
   "execution_count": 233,
   "metadata": {},
   "outputs": [
    {
     "name": "stdout",
     "output_type": "stream",
     "text": [
      "The Roc AUC score for best estimator:  0.7906808035714286\n"
     ]
    }
   ],
   "source": [
    "print('The Roc AUC score for best estimator: ', roc_auc_score(y_test, best_.predict_proba(X_test)[:, 1]))"
   ]
  },
  {
   "cell_type": "markdown",
   "metadata": {},
   "source": [
    "This ROC AUC is not amazing, but it is still quite good. It means that there is a bit of trade-off in my model between getting true positives and getting false positives, but not so much to mean that I am getting a worrying number of false positives. "
   ]
  },
  {
   "cell_type": "markdown",
   "metadata": {},
   "source": [
    "- Plot the ROC and precision-recall curves for at least one of your models."
   ]
  },
  {
   "cell_type": "markdown",
   "metadata": {},
   "source": [
    "I can't plot the ROC or precision recall curves for this best estimator because it's not a binary classifier, but I will do it below for a new model which I am going to make for the purposes of the bonus question."
   ]
  },
  {
   "cell_type": "markdown",
   "metadata": {},
   "source": [
    "### Model evaluation(cont.):\n",
    "\n",
    "(I've decided to answer this first bit and the bonus together because they seem like the same question.)   \n",
    "Your boss would rather tell a client incorrectly that they would get a lower salary job than tell a client incorrectly that they would get a high salary job. Adjust one of your models to ease his mind, and explain what it is doing and any tradeoffs."
   ]
  },
  {
   "cell_type": "markdown",
   "metadata": {},
   "source": [
    "### Bonus:\n",
    "\n",
    "- Answer the salary discussion by using your model to explain the tradeoffs between detecting high vs low salary positions. \n",
    "- Discuss the differences and explain when you want a high-recall or a high-precision model in this scenario.\n",
    "- Obtain the ROC/precision-recall curves for the different models you studied (at least the tuned model of each category) and compare."
   ]
  },
  {
   "cell_type": "markdown",
   "metadata": {},
   "source": [
    "The boss is saying, in other words, that he would rather have more false negatives than false positives, if positive means a high salary. This means that I need a model which has a high precision, but maybe at the expense of some recall. I will gridsearch logitistic regression on the salary as a binary variable and score for precision."
   ]
  },
  {
   "cell_type": "code",
   "execution_count": 219,
   "metadata": {},
   "outputs": [],
   "source": [
    "X = X\n",
    "y = df_c['sal_high']\n",
    "X_train,X_test, y_train,  y_test = train_test_split(X, y, test_size=0.33, random_state=42)\n",
    "lr = LogisticRegression(max_iter=10000)\n",
    "pipe = make_pipeline(ip, col_trans, scaler, lr)\n",
    "\n",
    "params_lr = { 'logisticregression__penalty': ['l1', 'l2'],\n",
    "             'logisticregression__C': [1, 0.2, 0.6],\n",
    "             'logisticregression__solver': ['liblinear'],\n",
    "             \n",
    "}\n",
    "LR = GridSearchCV(estimator=pipe,\n",
    "                param_grid=params_lr,\n",
    "                scoring='precision',\n",
    "                cv=5)"
   ]
  },
  {
   "cell_type": "code",
   "execution_count": 199,
   "metadata": {},
   "outputs": [
    {
     "name": "stdout",
     "output_type": "stream",
     "text": [
      "[LibLinear][LibLinear][LibLinear][LibLinear][LibLinear][LibLinear][LibLinear][LibLinear][LibLinear][LibLinear][LibLinear][LibLinear][LibLinear][LibLinear][LibLinear][LibLinear][LibLinear][LibLinear][LibLinear][LibLinear][LibLinear][LibLinear][LibLinear][LibLinear][LibLinear][LibLinear][LibLinear][LibLinear][LibLinear][LibLinear][LibLinear]"
     ]
    },
    {
     "data": {
      "text/plain": [
       "GridSearchCV(cv=5,\n",
       "             estimator=Pipeline(steps=[('indeedpreprocessor',\n",
       "                                        IndeedPreprocessor(columns_to_drop=['company',\n",
       "                                                                            'title'])),\n",
       "                                       ('columntransformer',\n",
       "                                        ColumnTransformer(remainder='passthrough',\n",
       "                                                          sparse_threshold=1,\n",
       "                                                          transformers=[('desc',\n",
       "                                                                         CountVectorizer(stop_words='english'),\n",
       "                                                                         'desc'),\n",
       "                                                                        ('cats',\n",
       "                                                                         OneHotEncoder(handle_unknown='ignore'),\n",
       "                                                                         ['days_old',\n",
       "                                                                          'location',\n",
       "                                                                          'short_title',\n",
       "                                                                          'level',\n",
       "                                                                          'city'])])),\n",
       "                                       ('standardscaler',\n",
       "                                        StandardScaler(with_mean=False)),\n",
       "                                       ('logisticregression',\n",
       "                                        LogisticRegression(max_iter=10000,\n",
       "                                                           verbose=1))]),\n",
       "             param_grid={'logisticregression__C': [1, 0.2, 0.6],\n",
       "                         'logisticregression__penalty': ['l1', 'l2'],\n",
       "                         'logisticregression__solver': ['liblinear']},\n",
       "             scoring='precision')"
      ]
     },
     "execution_count": 199,
     "metadata": {},
     "output_type": "execute_result"
    }
   ],
   "source": [
    "LR.fit(X_train,y_train)"
   ]
  },
  {
   "cell_type": "code",
   "execution_count": 206,
   "metadata": {},
   "outputs": [
    {
     "name": "stdout",
     "output_type": "stream",
     "text": [
      "[LibLinear]"
     ]
    }
   ],
   "source": [
    "best = LR.best_estimator_\n",
    "best.fit(X_train,y_train)\n",
    "preds = best.predict(X_test)"
   ]
  },
  {
   "cell_type": "code",
   "execution_count": 207,
   "metadata": {},
   "outputs": [
    {
     "name": "stdout",
     "output_type": "stream",
     "text": [
      "the precision score is:  0.9066427289048474\n"
     ]
    }
   ],
   "source": [
    "precision = precision_score(y_test, preds)\n",
    "print('the precision score is: ', precision)"
   ]
  },
  {
   "cell_type": "markdown",
   "metadata": {},
   "source": [
    "90% of my predictions are correctly predicted."
   ]
  },
  {
   "cell_type": "code",
   "execution_count": 208,
   "metadata": {},
   "outputs": [],
   "source": [
    "from sklearn.metrics import roc_auc_score, average_precision_score, plot_roc_curve, plot_precision_recall_curve"
   ]
  },
  {
   "cell_type": "code",
   "execution_count": 213,
   "metadata": {},
   "outputs": [
    {
     "data": {
      "image/png": "[encoded data removed]",
      "text/plain": [
       "<Figure size 576x576 with 1 Axes>"
      ]
     },
     "metadata": {
      "needs_background": "light"
     },
     "output_type": "display_data"
    }
   ],
   "source": [
    "fig = plt.figure(figsize=(8,8))\n",
    "ax = plt.gca()\n",
    "plot_precision_recall_curve(best, X, y, ax=ax);"
   ]
  },
  {
   "cell_type": "markdown",
   "metadata": {},
   "source": [
    "My precision recall curve here is good. It tells me that I do not have to sacrifice much recall in order to get good precision."
   ]
  },
  {
   "cell_type": "markdown",
   "metadata": {},
   "source": [
    "### Summarize your results in an executive summary written for a non-technical audience.\n",
    "   \n",
    "- Writeups should be at least 500-1000 words, defining any technical terms, explaining your approach, as well as any risks and limitations."
   ]
  },
  {
   "cell_type": "markdown",
   "metadata": {},
   "source": [
    "Indeed is the the highest-trafficked job site in the US, and in the UK it is similarly popular. It's therefore an ideal place to look for jobs related to data science, as well as more broadly to get information about this specific job market.   \n",
    "\n",
    "I began by getting all the job postings from the Indeed website. Indeed does not have an API (an approved way for programmers to interact with their data), so I had to scrape the information by writing some code which would load up each page and extract the relevant pieces of information. This posed a few issues, and I had to make the code behave in such a way that the Indeed website would be tricked into thinking my code was actually a human, so would not kick me off the site. \n",
    "\n",
    "I first investigated whether a high or a low salary could be predicted only by the location of the job. I created and tested four different models. My best model was a logistic regression model which was able to predict whether a salary was high or low, based only on the location, about 65% of the time. This is not a particularly high accuracy. If I had just predicted a high salary for every job posting, I would have got a score of 50% (baseline accuracy). Because it is only modelled on one feature, there is a limit to how accurate my predictions can be. This model suggested that it would be better to use a combination of other features I have scraped from Indeed as well as location.\n",
    "\n",
    "I then decided to train a new model. I changed the target variable (salary, the thing I'm predicting) into having three classes instead of two. I did this because I thought that the range of salaries would mean that it would be helpful to classify a bit more precisely. A salary of 40000 is significantly differnet to one of 80000, but in the previous model both would have been classified as high.\n",
    "\n",
    "To increase the number of features I am using in the model, I used the day of posting of the job, a more specific location, and then the text data of the description on the job posting. (I got rid of any numbers in the text to stop the salary creeping in the back door!) To convert the text to numerical data, I used a vectoriser, which records when certain words were used and with what frequency.\n",
    "\n",
    "I then created 4 models. Three of these models got excellent training scores, as well as excellent scores on the testing data. I could predict the salary of the job posting 92 percent of the time with the logistic regression model. \n",
    "\n",
    "I was slightly surprised that the age of the listing was a good predictor of the salary of the job. This goes to show that statistical models can privilege variables which are surprising to humans. "
   ]
  },
  {
   "cell_type": "markdown",
   "metadata": {},
   "source": [
    "<img src=\"http://imgur.com/xDpSobf.png\" style=\"float: left; margin: 25px 15px 0px 0px; height: 25px\">\n",
    "\n",
    "### BONUS\n",
    "\n",
    "Convert your executive summary into a public blog post of at least 500 words, in which you document your approach in a tutorial for other aspiring data scientists. Link to this in your notebook."
   ]
  },
  {
   "cell_type": "code",
   "execution_count": 18,
   "metadata": {},
   "outputs": [],
   "source": [
    "## YOUR LINK HERE IN MARKDOWN FORMAT "
   ]
  }
 ],
 "metadata": {
  "kernelspec": {
   "display_name": "Python 3",
   "language": "python",
   "name": "python3"
  },
  "language_info": {
   "codemirror_mode": {
    "name": "ipython",
    "version": 3
   },
   "file_extension": ".py",
   "mimetype": "text/x-python",
   "name": "python",
   "nbconvert_exporter": "python",
   "pygments_lexer": "ipython3",
   "version": "3.7.4"
  },
  "toc": {
   "base_numbering": 1,
   "nav_menu": {},
   "number_sections": false,
   "sideBar": true,
   "skip_h1_title": true,
   "title_cell": "Table of Contents",
   "title_sidebar": "Contents",
   "toc_cell": false,
   "toc_position": {},
   "toc_section_display": "block",
   "toc_window_display": false
  }
 },
 "nbformat": 4,
 "nbformat_minor": 1
}
